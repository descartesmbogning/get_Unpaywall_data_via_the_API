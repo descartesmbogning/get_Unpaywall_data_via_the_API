{
 "cells": [
  {
   "cell_type": "code",
   "execution_count": 1,
   "id": "029adbf6-44bb-4dee-a834-db97543dc51d",
   "metadata": {},
   "outputs": [],
   "source": [
    "import pandas as pd\n",
    "import numpy as np\n",
    "import seaborn as sns\n",
    "import missingno as msno\n",
    "%matplotlib inline\n",
    "import csv\n",
    "\n",
    "from functools import reduce"
   ]
  },
  {
   "cell_type": "code",
   "execution_count": null,
   "id": "4b4806c4-3887-4cec-9da9-8b6eff54366d",
   "metadata": {},
   "outputs": [],
   "source": []
  },
  {
   "cell_type": "code",
   "execution_count": null,
   "id": "82d427ec",
   "metadata": {},
   "outputs": [],
   "source": []
  },
  {
   "cell_type": "markdown",
   "id": "2978c973",
   "metadata": {},
   "source": [
    "# 1. compare based on doi"
   ]
  },
  {
   "cell_type": "markdown",
   "id": "8ec9a9da",
   "metadata": {},
   "source": [
    "## import data"
   ]
  },
  {
   "cell_type": "code",
   "execution_count": 2,
   "id": "75e79f0b",
   "metadata": {},
   "outputs": [
    {
     "data": {
      "text/html": [
       "<div>\n",
       "<style scoped>\n",
       "    .dataframe tbody tr th:only-of-type {\n",
       "        vertical-align: middle;\n",
       "    }\n",
       "\n",
       "    .dataframe tbody tr th {\n",
       "        vertical-align: top;\n",
       "    }\n",
       "\n",
       "    .dataframe thead th {\n",
       "        text-align: right;\n",
       "    }\n",
       "</style>\n",
       "<table border=\"1\" class=\"dataframe\">\n",
       "  <thead>\n",
       "    <tr style=\"text-align: right;\">\n",
       "      <th></th>\n",
       "      <th>UT (Unique WOS ID)</th>\n",
       "      <th>DOI</th>\n",
       "    </tr>\n",
       "  </thead>\n",
       "  <tbody>\n",
       "    <tr>\n",
       "      <th>0</th>\n",
       "      <td>WOS:A1968A855300005</td>\n",
       "      <td>10.1055/s-0028-1105102</td>\n",
       "    </tr>\n",
       "    <tr>\n",
       "      <th>1</th>\n",
       "      <td>WOS:A1968A855300004</td>\n",
       "      <td>10.1055/s-0028-1105101</td>\n",
       "    </tr>\n",
       "    <tr>\n",
       "      <th>2</th>\n",
       "      <td>WOS:A1968A855300003</td>\n",
       "      <td>10.1055/s-0028-1105100</td>\n",
       "    </tr>\n",
       "    <tr>\n",
       "      <th>3</th>\n",
       "      <td>WOS:A1968B963600036</td>\n",
       "      <td>NaN</td>\n",
       "    </tr>\n",
       "    <tr>\n",
       "      <th>4</th>\n",
       "      <td>WOS:A1968B963600037</td>\n",
       "      <td>NaN</td>\n",
       "    </tr>\n",
       "  </tbody>\n",
       "</table>\n",
       "</div>"
      ],
      "text/plain": [
       "    UT (Unique WOS ID)                     DOI\n",
       "0  WOS:A1968A855300005  10.1055/s-0028-1105102\n",
       "1  WOS:A1968A855300004  10.1055/s-0028-1105101\n",
       "2  WOS:A1968A855300003  10.1055/s-0028-1105100\n",
       "3  WOS:A1968B963600036                     NaN\n",
       "4  WOS:A1968B963600037                     NaN"
      ]
     },
     "execution_count": 2,
     "metadata": {},
     "output_type": "execute_result"
    }
   ],
   "source": [
    "wos_doi = pd.read_excel(f'D:\\MARBURG VIRUS DISEASES/data/WOSCC/woscc_bon_23_02_verif_on_wos.xls')[['UT (Unique WOS ID)','DOI']]\n",
    "wos_doi.head()"
   ]
  },
  {
   "cell_type": "code",
   "execution_count": 3,
   "id": "2e767136",
   "metadata": {},
   "outputs": [
    {
     "data": {
      "text/html": [
       "<div>\n",
       "<style scoped>\n",
       "    .dataframe tbody tr th:only-of-type {\n",
       "        vertical-align: middle;\n",
       "    }\n",
       "\n",
       "    .dataframe tbody tr th {\n",
       "        vertical-align: top;\n",
       "    }\n",
       "\n",
       "    .dataframe thead th {\n",
       "        text-align: right;\n",
       "    }\n",
       "</style>\n",
       "<table border=\"1\" class=\"dataframe\">\n",
       "  <thead>\n",
       "    <tr style=\"text-align: right;\">\n",
       "      <th></th>\n",
       "      <th>0</th>\n",
       "    </tr>\n",
       "  </thead>\n",
       "  <tbody>\n",
       "    <tr>\n",
       "      <th>UT (Unique WOS ID)</th>\n",
       "      <td>932</td>\n",
       "    </tr>\n",
       "    <tr>\n",
       "      <th>DOI</th>\n",
       "      <td>875</td>\n",
       "    </tr>\n",
       "  </tbody>\n",
       "</table>\n",
       "</div>"
      ],
      "text/plain": [
       "                      0\n",
       "UT (Unique WOS ID)  932\n",
       "DOI                 875"
      ]
     },
     "execution_count": 3,
     "metadata": {},
     "output_type": "execute_result"
    }
   ],
   "source": [
    "wos_doi.count().to_frame()"
   ]
  },
  {
   "cell_type": "code",
   "execution_count": 4,
   "id": "14f8691d",
   "metadata": {},
   "outputs": [
    {
     "data": {
      "text/plain": [
       "Index(['UT (Unique WOS ID)', 'DOI'], dtype='object')"
      ]
     },
     "execution_count": 4,
     "metadata": {},
     "output_type": "execute_result"
    }
   ],
   "source": [
    "wos_doi.columns"
   ]
  },
  {
   "cell_type": "code",
   "execution_count": 5,
   "id": "de24fd44",
   "metadata": {},
   "outputs": [],
   "source": [
    "# wos_doi.drop_duplicates(subset=['UT (Unique WOS ID)'])"
   ]
  },
  {
   "cell_type": "code",
   "execution_count": 6,
   "id": "fd0a3608",
   "metadata": {},
   "outputs": [
    {
     "name": "stdout",
     "output_type": "stream",
     "text": [
      ">>>  total number of WOS publications :  932\n"
     ]
    }
   ],
   "source": [
    "## How many studies in WOS ?\n",
    "wos_doi.drop_duplicates(inplace = True)\n",
    "print(\">>>\", \" total number of WOS publications : \", wos_doi.shape[0])"
   ]
  },
  {
   "cell_type": "code",
   "execution_count": 7,
   "id": "f2526ba0",
   "metadata": {},
   "outputs": [
    {
     "name": "stdout",
     "output_type": "stream",
     "text": [
      ">>>  total number of WOS publications with DOI :  875\n"
     ]
    }
   ],
   "source": [
    "## How many WOS studies have DOI  ?\n",
    "wos_have_doi_have_doi = wos_doi[wos_doi['DOI'].notnull()]\n",
    "print(\">>>\", \" total number of WOS publications with DOI : \", wos_have_doi_have_doi.shape[0])"
   ]
  },
  {
   "cell_type": "code",
   "execution_count": 8,
   "id": "dbe219e7",
   "metadata": {},
   "outputs": [
    {
     "name": "stdout",
     "output_type": "stream",
     "text": [
      ">>>  total number of WOS publications with no DOI :  57\n"
     ]
    }
   ],
   "source": [
    "## How many WOS studies have DOI  ?\n",
    "wos_have_doi_no_doi = wos_doi[wos_doi['DOI'].isnull()]\n",
    "print(\">>>\", \" total number of WOS publications with no DOI : \", wos_have_doi_no_doi.shape[0])"
   ]
  },
  {
   "cell_type": "code",
   "execution_count": 9,
   "id": "a0113809",
   "metadata": {},
   "outputs": [
    {
     "data": {
      "text/plain": [
       "UT (Unique WOS ID)    57\n",
       "DOI                    0\n",
       "dtype: int64"
      ]
     },
     "execution_count": 9,
     "metadata": {},
     "output_type": "execute_result"
    }
   ],
   "source": [
    "wos_have_doi_no_doi.count()"
   ]
  },
  {
   "cell_type": "code",
   "execution_count": null,
   "id": "3e2860b3",
   "metadata": {},
   "outputs": [],
   "source": []
  },
  {
   "cell_type": "code",
   "execution_count": null,
   "id": "ce148f37",
   "metadata": {},
   "outputs": [],
   "source": []
  },
  {
   "cell_type": "markdown",
   "id": "5baa5cce",
   "metadata": {},
   "source": [
    "## get Unpaywall data via the API"
   ]
  },
  {
   "cell_type": "code",
   "execution_count": 10,
   "id": "de7ec1e0",
   "metadata": {},
   "outputs": [],
   "source": [
    "import os\n",
    "myemail = 'dmbogning15@gmail.com'"
   ]
  },
  {
   "cell_type": "code",
   "execution_count": 11,
   "id": "0144cbeb",
   "metadata": {},
   "outputs": [],
   "source": [
    "import requests\n",
    "import json\n",
    "import time\n",
    "\n",
    "def get_doi_data(doi):\n",
    "    email = myemail or ''\n",
    "    url = 'https://api.unpaywall.org/v2/{}?email={}'.format(doi,email)\n",
    "    r = requests.get(url)\n",
    "    data = r.json()\n",
    "    response_time = r.elapsed.total_seconds()\n",
    "    # simple rule for sleeping if responses are slow\n",
    "    if response_time > 5.0:\n",
    "        print(response_time, 'seconds for last request')\n",
    "        print('Unpaywall slow to respond. Sleep for a few seconds.')\n",
    "        time.sleep(int(response_time))\n",
    "        print('Finished sleeping')\n",
    "    return data"
   ]
  },
  {
   "cell_type": "code",
   "execution_count": 12,
   "id": "5d02e5da",
   "metadata": {},
   "outputs": [
    {
     "data": {
      "text/plain": [
       "['10.1055/s-0028-1105102',\n",
       " '10.1055/s-0028-1105101',\n",
       " '10.1055/s-0028-1105100',\n",
       " '10.1055/s-0028-1105098',\n",
       " '10.1055/s-0028-1105103']"
      ]
     },
     "execution_count": 12,
     "metadata": {},
     "output_type": "execute_result"
    }
   ],
   "source": [
    "wos_doi_na = wos_doi.dropna()\n",
    "list_wos_doi = list(wos_doi_na['DOI'])\n",
    "list_wos_doi[:5]"
   ]
  },
  {
   "cell_type": "code",
   "execution_count": 13,
   "id": "75a2a29b",
   "metadata": {},
   "outputs": [
    {
     "data": {
      "text/plain": [
       "875"
      ]
     },
     "execution_count": 13,
     "metadata": {},
     "output_type": "execute_result"
    }
   ],
   "source": [
    "len(list_wos_doi)"
   ]
  },
  {
   "cell_type": "code",
   "execution_count": 14,
   "id": "2aef2d91",
   "metadata": {},
   "outputs": [],
   "source": [
    "# Python code to split a list\n",
    "# into sublists of given length.\n",
    "#list_doi_all = list(databases_merged.reset_index()['DOI'])#[:26]\n",
    "list_wos_doi_split = [list_wos_doi[x:x+1000] for x in range(0, len(list_wos_doi), 1000)]"
   ]
  },
  {
   "cell_type": "code",
   "execution_count": 15,
   "id": "7b8d5f40",
   "metadata": {},
   "outputs": [
    {
     "data": {
      "text/plain": [
       "875"
      ]
     },
     "execution_count": 15,
     "metadata": {},
     "output_type": "execute_result"
    }
   ],
   "source": [
    "len(list_wos_doi)"
   ]
  },
  {
   "cell_type": "code",
   "execution_count": 16,
   "id": "1a814fba",
   "metadata": {},
   "outputs": [
    {
     "data": {
      "text/plain": [
       "range(0, 1)"
      ]
     },
     "execution_count": 16,
     "metadata": {},
     "output_type": "execute_result"
    }
   ],
   "source": [
    "range(len(list_wos_doi_split))"
   ]
  },
  {
   "cell_type": "code",
   "execution_count": 17,
   "id": "bdd88096-ea59-4de1-8050-bfcb68a9be5f",
   "metadata": {},
   "outputs": [],
   "source": [
    "# list_wos_doi_split[0]"
   ]
  },
  {
   "cell_type": "code",
   "execution_count": 18,
   "id": "d7390ab7",
   "metadata": {},
   "outputs": [
    {
     "name": "stderr",
     "output_type": "stream",
     "text": [
      "C:\\Users\\dmbog\\AppData\\Local\\Temp\\ipykernel_11604\\151552576.py:12: FutureWarning: As the xlwt package is no longer maintained, the xlwt engine will be removed in a future version of pandas. This is the only engine in pandas that supports writing in the xls format. Install openpyxl and write to an xlsx file instead. You can set the option io.excel.xls.writer to 'xlwt' to silence this warning. While this option is deprecated and will also raise a warning, it can be globally set and the warning suppressed.\n",
      "  data_upw.to_excel(f'../TABLES_gender/data_upw.xls')\n"
     ]
    },
    {
     "name": "stdout",
     "output_type": "stream",
     "text": [
      "#+++>>> total number of publication found in unpaywall for list_wos_doi_split_0 : 875  #\n"
     ]
    }
   ],
   "source": [
    "# data_upw = pd.DataFrame()\n",
    "for elt in range(len(list_wos_doi_split)): # len(list_doi_split)  # range(21, 25)\n",
    "    data_upw = []\n",
    "    for doi in list_wos_doi_split[elt] :\n",
    "        data_doi = get_doi_data(doi)\n",
    "#         data_upw = pd.concat([data_upw,data_doi])\n",
    "        data_upw.append(data_doi)\n",
    "    \n",
    "    data_upw = pd.json_normalize(data_upw)\n",
    "    \n",
    "    data_upw.to_csv(f'../DATA_PREPROCESSING/data_upw.csv')\n",
    "    data_upw.to_excel(f'../DATA_PREPROCESSING/data_upw.xls')\n",
    "    data_upw.to_pickle(f'../DATA_PREPROCESSING/data_upw.pkl')\n",
    "    print(f\"#+++>>> total number of publication found in unpaywall for list_wos_doi_split_{elt} :\", data_upw.shape[0],\" #\") "
   ]
  },
  {
   "cell_type": "code",
   "execution_count": 65,
   "id": "84a22439-2500-41b4-9d02-a62c0a7ed172",
   "metadata": {},
   "outputs": [
    {
     "name": "stderr",
     "output_type": "stream",
     "text": [
      "C:\\Users\\dmbog\\AppData\\Local\\Temp\\ipykernel_11604\\2456938019.py:5: FutureWarning: As the xlwt package is no longer maintained, the xlwt engine will be removed in a future version of pandas. This is the only engine in pandas that supports writing in the xls format. Install openpyxl and write to an xlsx file instead. You can set the option io.excel.xls.writer to 'xlwt' to silence this warning. While this option is deprecated and will also raise a warning, it can be globally set and the warning suppressed.\n",
      "  merged_df.to_excel(f'../DATA_PREPROCESSING/marburg_data_upw.xls')\n"
     ]
    },
    {
     "data": {
      "text/html": [
       "<div>\n",
       "<style scoped>\n",
       "    .dataframe tbody tr th:only-of-type {\n",
       "        vertical-align: middle;\n",
       "    }\n",
       "\n",
       "    .dataframe tbody tr th {\n",
       "        vertical-align: top;\n",
       "    }\n",
       "\n",
       "    .dataframe thead th {\n",
       "        text-align: right;\n",
       "    }\n",
       "</style>\n",
       "<table border=\"1\" class=\"dataframe\">\n",
       "  <thead>\n",
       "    <tr style=\"text-align: right;\">\n",
       "      <th></th>\n",
       "      <th>UT (Unique WOS ID)</th>\n",
       "      <th>DOI</th>\n",
       "      <th>doi_url</th>\n",
       "      <th>title</th>\n",
       "      <th>genre</th>\n",
       "      <th>is_paratext</th>\n",
       "      <th>published_date</th>\n",
       "      <th>year</th>\n",
       "      <th>journal_name</th>\n",
       "      <th>journal_issns</th>\n",
       "      <th>...</th>\n",
       "      <th>first_oa_location.version</th>\n",
       "      <th>first_oa_location.host_type</th>\n",
       "      <th>first_oa_location.is_best</th>\n",
       "      <th>first_oa_location.pmh_id</th>\n",
       "      <th>first_oa_location.endpoint_id</th>\n",
       "      <th>first_oa_location.repository_institution</th>\n",
       "      <th>first_oa_location.oa_date</th>\n",
       "      <th>HTTP_status_code</th>\n",
       "      <th>error</th>\n",
       "      <th>message</th>\n",
       "    </tr>\n",
       "  </thead>\n",
       "  <tbody>\n",
       "    <tr>\n",
       "      <th>0</th>\n",
       "      <td>WOS:A1968A855300005</td>\n",
       "      <td>10.1055/s-0028-1105102</td>\n",
       "      <td>https://doi.org/10.1055/s-0028-1105102</td>\n",
       "      <td>Zur Neuropathologie der durch grüne Meerkatzen...</td>\n",
       "      <td>journal-article</td>\n",
       "      <td>False</td>\n",
       "      <td>1968-03-01</td>\n",
       "      <td>1968.0</td>\n",
       "      <td>DMW - Deutsche Medizinische Wochenschrift</td>\n",
       "      <td>0012-0472,1439-4413</td>\n",
       "      <td>...</td>\n",
       "      <td>NaN</td>\n",
       "      <td>NaN</td>\n",
       "      <td>NaN</td>\n",
       "      <td>NaN</td>\n",
       "      <td>NaN</td>\n",
       "      <td>NaN</td>\n",
       "      <td>NaN</td>\n",
       "      <td>NaN</td>\n",
       "      <td>NaN</td>\n",
       "      <td>NaN</td>\n",
       "    </tr>\n",
       "    <tr>\n",
       "      <th>1</th>\n",
       "      <td>WOS:A1968A855300004</td>\n",
       "      <td>10.1055/s-0028-1105101</td>\n",
       "      <td>https://doi.org/10.1055/s-0028-1105101</td>\n",
       "      <td>Die pathologische Anatomie der „Marburg-Virus”...</td>\n",
       "      <td>journal-article</td>\n",
       "      <td>False</td>\n",
       "      <td>1968-03-01</td>\n",
       "      <td>1968.0</td>\n",
       "      <td>DMW - Deutsche Medizinische Wochenschrift</td>\n",
       "      <td>0012-0472,1439-4413</td>\n",
       "      <td>...</td>\n",
       "      <td>NaN</td>\n",
       "      <td>NaN</td>\n",
       "      <td>NaN</td>\n",
       "      <td>NaN</td>\n",
       "      <td>NaN</td>\n",
       "      <td>NaN</td>\n",
       "      <td>NaN</td>\n",
       "      <td>NaN</td>\n",
       "      <td>NaN</td>\n",
       "      <td>NaN</td>\n",
       "    </tr>\n",
       "    <tr>\n",
       "      <th>2</th>\n",
       "      <td>WOS:A1968A855300003</td>\n",
       "      <td>10.1055/s-0028-1105100</td>\n",
       "      <td>https://doi.org/10.1055/s-0028-1105100</td>\n",
       "      <td>Zur Epidemiologie der Erkrankung von Menschen ...</td>\n",
       "      <td>journal-article</td>\n",
       "      <td>False</td>\n",
       "      <td>1968-03-01</td>\n",
       "      <td>1968.0</td>\n",
       "      <td>DMW - Deutsche Medizinische Wochenschrift</td>\n",
       "      <td>0012-0472,1439-4413</td>\n",
       "      <td>...</td>\n",
       "      <td>NaN</td>\n",
       "      <td>NaN</td>\n",
       "      <td>NaN</td>\n",
       "      <td>NaN</td>\n",
       "      <td>NaN</td>\n",
       "      <td>NaN</td>\n",
       "      <td>NaN</td>\n",
       "      <td>NaN</td>\n",
       "      <td>NaN</td>\n",
       "      <td>NaN</td>\n",
       "    </tr>\n",
       "    <tr>\n",
       "      <th>3</th>\n",
       "      <td>WOS:A1968B963600036</td>\n",
       "      <td>NaN</td>\n",
       "      <td>NaN</td>\n",
       "      <td>NaN</td>\n",
       "      <td>NaN</td>\n",
       "      <td>NaN</td>\n",
       "      <td>NaN</td>\n",
       "      <td>NaN</td>\n",
       "      <td>NaN</td>\n",
       "      <td>NaN</td>\n",
       "      <td>...</td>\n",
       "      <td>NaN</td>\n",
       "      <td>NaN</td>\n",
       "      <td>NaN</td>\n",
       "      <td>NaN</td>\n",
       "      <td>NaN</td>\n",
       "      <td>NaN</td>\n",
       "      <td>NaN</td>\n",
       "      <td>404.0</td>\n",
       "      <td>True</td>\n",
       "      <td>'10.1093/jambio/lxac067' isn't in Unpaywall. S...</td>\n",
       "    </tr>\n",
       "    <tr>\n",
       "      <th>5</th>\n",
       "      <td>WOS:A1968B963600037</td>\n",
       "      <td>NaN</td>\n",
       "      <td>NaN</td>\n",
       "      <td>NaN</td>\n",
       "      <td>NaN</td>\n",
       "      <td>NaN</td>\n",
       "      <td>NaN</td>\n",
       "      <td>NaN</td>\n",
       "      <td>NaN</td>\n",
       "      <td>NaN</td>\n",
       "      <td>...</td>\n",
       "      <td>NaN</td>\n",
       "      <td>NaN</td>\n",
       "      <td>NaN</td>\n",
       "      <td>NaN</td>\n",
       "      <td>NaN</td>\n",
       "      <td>NaN</td>\n",
       "      <td>NaN</td>\n",
       "      <td>404.0</td>\n",
       "      <td>True</td>\n",
       "      <td>'10.1093/jambio/lxac067' isn't in Unpaywall. S...</td>\n",
       "    </tr>\n",
       "    <tr>\n",
       "      <th>...</th>\n",
       "      <td>...</td>\n",
       "      <td>...</td>\n",
       "      <td>...</td>\n",
       "      <td>...</td>\n",
       "      <td>...</td>\n",
       "      <td>...</td>\n",
       "      <td>...</td>\n",
       "      <td>...</td>\n",
       "      <td>...</td>\n",
       "      <td>...</td>\n",
       "      <td>...</td>\n",
       "      <td>...</td>\n",
       "      <td>...</td>\n",
       "      <td>...</td>\n",
       "      <td>...</td>\n",
       "      <td>...</td>\n",
       "      <td>...</td>\n",
       "      <td>...</td>\n",
       "      <td>...</td>\n",
       "      <td>...</td>\n",
       "      <td>...</td>\n",
       "    </tr>\n",
       "    <tr>\n",
       "      <th>984</th>\n",
       "      <td>WOS:000398598700003</td>\n",
       "      <td>10.1098/rstb.2016.0294</td>\n",
       "      <td>https://doi.org/10.1098/rstb.2016.0294</td>\n",
       "      <td>Offering patients more: how the West Africa Eb...</td>\n",
       "      <td>journal-article</td>\n",
       "      <td>False</td>\n",
       "      <td>2017-04-10</td>\n",
       "      <td>2017.0</td>\n",
       "      <td>Philosophical Transactions of the Royal Societ...</td>\n",
       "      <td>0962-8436,1471-2970</td>\n",
       "      <td>...</td>\n",
       "      <td>publishedVersion</td>\n",
       "      <td>publisher</td>\n",
       "      <td>True</td>\n",
       "      <td>None</td>\n",
       "      <td>None</td>\n",
       "      <td>None</td>\n",
       "      <td>2017-04-10</td>\n",
       "      <td>NaN</td>\n",
       "      <td>NaN</td>\n",
       "      <td>NaN</td>\n",
       "    </tr>\n",
       "    <tr>\n",
       "      <th>985</th>\n",
       "      <td>WOS:000309742800063</td>\n",
       "      <td>10.1371/journal.pone.0045479</td>\n",
       "      <td>https://doi.org/10.1371/journal.pone.0045479</td>\n",
       "      <td>Virological and Serological Findings in Rouset...</td>\n",
       "      <td>journal-article</td>\n",
       "      <td>False</td>\n",
       "      <td>2012-09-17</td>\n",
       "      <td>2012.0</td>\n",
       "      <td>PLoS ONE</td>\n",
       "      <td>1932-6203</td>\n",
       "      <td>...</td>\n",
       "      <td>publishedVersion</td>\n",
       "      <td>publisher</td>\n",
       "      <td>True</td>\n",
       "      <td>None</td>\n",
       "      <td>None</td>\n",
       "      <td>None</td>\n",
       "      <td>2012-09-17</td>\n",
       "      <td>NaN</td>\n",
       "      <td>NaN</td>\n",
       "      <td>NaN</td>\n",
       "    </tr>\n",
       "    <tr>\n",
       "      <th>986</th>\n",
       "      <td>WOS:000460640400002</td>\n",
       "      <td>10.1093/infdis/jiy251</td>\n",
       "      <td>https://doi.org/10.1093/infdis/jiy251</td>\n",
       "      <td>Suspected Exposure to Filoviruses Among People...</td>\n",
       "      <td>journal-article</td>\n",
       "      <td>False</td>\n",
       "      <td>2018-06-18</td>\n",
       "      <td>2018.0</td>\n",
       "      <td>The Journal of Infectious Diseases</td>\n",
       "      <td>0022-1899,1537-6613</td>\n",
       "      <td>...</td>\n",
       "      <td>publishedVersion</td>\n",
       "      <td>repository</td>\n",
       "      <td>True</td>\n",
       "      <td>oai:europepmc.org:X33rPWYHCQKFfY3qZgSP</td>\n",
       "      <td>b5e840539009389b1a6</td>\n",
       "      <td>PubMed Central - Europe PMC</td>\n",
       "      <td>None</td>\n",
       "      <td>NaN</td>\n",
       "      <td>NaN</td>\n",
       "      <td>NaN</td>\n",
       "    </tr>\n",
       "    <tr>\n",
       "      <th>987</th>\n",
       "      <td>WOS:000460640400054</td>\n",
       "      <td>10.1093/infdis/jiy435</td>\n",
       "      <td>https://doi.org/10.1093/infdis/jiy435</td>\n",
       "      <td>Infection Rates and Risk Factors for Infection...</td>\n",
       "      <td>journal-article</td>\n",
       "      <td>False</td>\n",
       "      <td>2018-09-07</td>\n",
       "      <td>2018.0</td>\n",
       "      <td>The Journal of Infectious Diseases</td>\n",
       "      <td>0022-1899,1537-6613</td>\n",
       "      <td>...</td>\n",
       "      <td>publishedVersion</td>\n",
       "      <td>publisher</td>\n",
       "      <td>True</td>\n",
       "      <td>None</td>\n",
       "      <td>None</td>\n",
       "      <td>None</td>\n",
       "      <td>2018-09-07</td>\n",
       "      <td>NaN</td>\n",
       "      <td>NaN</td>\n",
       "      <td>NaN</td>\n",
       "    </tr>\n",
       "    <tr>\n",
       "      <th>988</th>\n",
       "      <td>WOS:000385597400009</td>\n",
       "      <td>10.1016/j.vaccine.2016.05.070</td>\n",
       "      <td>https://doi.org/10.1016/j.vaccine.2016.05.070</td>\n",
       "      <td>Polio infrastructure strengthened disease outb...</td>\n",
       "      <td>journal-article</td>\n",
       "      <td>False</td>\n",
       "      <td>2016-10-01</td>\n",
       "      <td>2016.0</td>\n",
       "      <td>Vaccine</td>\n",
       "      <td>0264-410X</td>\n",
       "      <td>...</td>\n",
       "      <td>publishedVersion</td>\n",
       "      <td>publisher</td>\n",
       "      <td>True</td>\n",
       "      <td>None</td>\n",
       "      <td>None</td>\n",
       "      <td>None</td>\n",
       "      <td>2016-06-20</td>\n",
       "      <td>NaN</td>\n",
       "      <td>NaN</td>\n",
       "      <td>NaN</td>\n",
       "    </tr>\n",
       "  </tbody>\n",
       "</table>\n",
       "<p>932 rows × 53 columns</p>\n",
       "</div>"
      ],
      "text/plain": [
       "      UT (Unique WOS ID)                            DOI  \\\n",
       "0    WOS:A1968A855300005         10.1055/s-0028-1105102   \n",
       "1    WOS:A1968A855300004         10.1055/s-0028-1105101   \n",
       "2    WOS:A1968A855300003         10.1055/s-0028-1105100   \n",
       "3    WOS:A1968B963600036                            NaN   \n",
       "5    WOS:A1968B963600037                            NaN   \n",
       "..                   ...                            ...   \n",
       "984  WOS:000398598700003         10.1098/rstb.2016.0294   \n",
       "985  WOS:000309742800063   10.1371/journal.pone.0045479   \n",
       "986  WOS:000460640400002          10.1093/infdis/jiy251   \n",
       "987  WOS:000460640400054          10.1093/infdis/jiy435   \n",
       "988  WOS:000385597400009  10.1016/j.vaccine.2016.05.070   \n",
       "\n",
       "                                           doi_url  \\\n",
       "0           https://doi.org/10.1055/s-0028-1105102   \n",
       "1           https://doi.org/10.1055/s-0028-1105101   \n",
       "2           https://doi.org/10.1055/s-0028-1105100   \n",
       "3                                              NaN   \n",
       "5                                              NaN   \n",
       "..                                             ...   \n",
       "984         https://doi.org/10.1098/rstb.2016.0294   \n",
       "985   https://doi.org/10.1371/journal.pone.0045479   \n",
       "986          https://doi.org/10.1093/infdis/jiy251   \n",
       "987          https://doi.org/10.1093/infdis/jiy435   \n",
       "988  https://doi.org/10.1016/j.vaccine.2016.05.070   \n",
       "\n",
       "                                                 title            genre  \\\n",
       "0    Zur Neuropathologie der durch grüne Meerkatzen...  journal-article   \n",
       "1    Die pathologische Anatomie der „Marburg-Virus”...  journal-article   \n",
       "2    Zur Epidemiologie der Erkrankung von Menschen ...  journal-article   \n",
       "3                                                  NaN              NaN   \n",
       "5                                                  NaN              NaN   \n",
       "..                                                 ...              ...   \n",
       "984  Offering patients more: how the West Africa Eb...  journal-article   \n",
       "985  Virological and Serological Findings in Rouset...  journal-article   \n",
       "986  Suspected Exposure to Filoviruses Among People...  journal-article   \n",
       "987  Infection Rates and Risk Factors for Infection...  journal-article   \n",
       "988  Polio infrastructure strengthened disease outb...  journal-article   \n",
       "\n",
       "    is_paratext published_date    year  \\\n",
       "0         False     1968-03-01  1968.0   \n",
       "1         False     1968-03-01  1968.0   \n",
       "2         False     1968-03-01  1968.0   \n",
       "3           NaN            NaN     NaN   \n",
       "5           NaN            NaN     NaN   \n",
       "..          ...            ...     ...   \n",
       "984       False     2017-04-10  2017.0   \n",
       "985       False     2012-09-17  2012.0   \n",
       "986       False     2018-06-18  2018.0   \n",
       "987       False     2018-09-07  2018.0   \n",
       "988       False     2016-10-01  2016.0   \n",
       "\n",
       "                                          journal_name        journal_issns  \\\n",
       "0            DMW - Deutsche Medizinische Wochenschrift  0012-0472,1439-4413   \n",
       "1            DMW - Deutsche Medizinische Wochenschrift  0012-0472,1439-4413   \n",
       "2            DMW - Deutsche Medizinische Wochenschrift  0012-0472,1439-4413   \n",
       "3                                                  NaN                  NaN   \n",
       "5                                                  NaN                  NaN   \n",
       "..                                                 ...                  ...   \n",
       "984  Philosophical Transactions of the Royal Societ...  0962-8436,1471-2970   \n",
       "985                                           PLoS ONE            1932-6203   \n",
       "986                 The Journal of Infectious Diseases  0022-1899,1537-6613   \n",
       "987                 The Journal of Infectious Diseases  0022-1899,1537-6613   \n",
       "988                                            Vaccine            0264-410X   \n",
       "\n",
       "     ... first_oa_location.version first_oa_location.host_type  \\\n",
       "0    ...                       NaN                         NaN   \n",
       "1    ...                       NaN                         NaN   \n",
       "2    ...                       NaN                         NaN   \n",
       "3    ...                       NaN                         NaN   \n",
       "5    ...                       NaN                         NaN   \n",
       "..   ...                       ...                         ...   \n",
       "984  ...          publishedVersion                   publisher   \n",
       "985  ...          publishedVersion                   publisher   \n",
       "986  ...          publishedVersion                  repository   \n",
       "987  ...          publishedVersion                   publisher   \n",
       "988  ...          publishedVersion                   publisher   \n",
       "\n",
       "    first_oa_location.is_best                first_oa_location.pmh_id  \\\n",
       "0                         NaN                                     NaN   \n",
       "1                         NaN                                     NaN   \n",
       "2                         NaN                                     NaN   \n",
       "3                         NaN                                     NaN   \n",
       "5                         NaN                                     NaN   \n",
       "..                        ...                                     ...   \n",
       "984                      True                                    None   \n",
       "985                      True                                    None   \n",
       "986                      True  oai:europepmc.org:X33rPWYHCQKFfY3qZgSP   \n",
       "987                      True                                    None   \n",
       "988                      True                                    None   \n",
       "\n",
       "    first_oa_location.endpoint_id first_oa_location.repository_institution  \\\n",
       "0                             NaN                                      NaN   \n",
       "1                             NaN                                      NaN   \n",
       "2                             NaN                                      NaN   \n",
       "3                             NaN                                      NaN   \n",
       "5                             NaN                                      NaN   \n",
       "..                            ...                                      ...   \n",
       "984                          None                                     None   \n",
       "985                          None                                     None   \n",
       "986           b5e840539009389b1a6              PubMed Central - Europe PMC   \n",
       "987                          None                                     None   \n",
       "988                          None                                     None   \n",
       "\n",
       "    first_oa_location.oa_date  HTTP_status_code  error  \\\n",
       "0                         NaN               NaN    NaN   \n",
       "1                         NaN               NaN    NaN   \n",
       "2                         NaN               NaN    NaN   \n",
       "3                         NaN             404.0   True   \n",
       "5                         NaN             404.0   True   \n",
       "..                        ...               ...    ...   \n",
       "984                2017-04-10               NaN    NaN   \n",
       "985                2012-09-17               NaN    NaN   \n",
       "986                      None               NaN    NaN   \n",
       "987                2018-09-07               NaN    NaN   \n",
       "988                2016-06-20               NaN    NaN   \n",
       "\n",
       "                                               message  \n",
       "0                                                  NaN  \n",
       "1                                                  NaN  \n",
       "2                                                  NaN  \n",
       "3    '10.1093/jambio/lxac067' isn't in Unpaywall. S...  \n",
       "5    '10.1093/jambio/lxac067' isn't in Unpaywall. S...  \n",
       "..                                                 ...  \n",
       "984                                                NaN  \n",
       "985                                                NaN  \n",
       "986                                                NaN  \n",
       "987                                                NaN  \n",
       "988                                                NaN  \n",
       "\n",
       "[932 rows x 53 columns]"
      ]
     },
     "execution_count": 65,
     "metadata": {},
     "output_type": "execute_result"
    }
   ],
   "source": [
    "merged_df = pd.merge(wos_doi.reset_index(), data_upw.rename({'doi':'DOI'}, axis=1), on='DOI', how = 'left').drop('index', axis=1)\n",
    "merged_df = merged_df.drop_duplicates(['UT (Unique WOS ID)'])\n",
    "\n",
    "merged_df.to_csv(f'../DATA_PREPROCESSING/marburg_data_upw.csv')\n",
    "merged_df.to_excel(f'../DATA_PREPROCESSING/marburg_data_upw.xls')\n",
    "merged_df.to_pickle(f'../DATA_PREPROCESSING/marburg_data_upw.pkl')\n",
    "merged_df"
   ]
  },
  {
   "cell_type": "code",
   "execution_count": 44,
   "id": "b6c9da07-1f2e-4446-837d-4f2c3de728bf",
   "metadata": {},
   "outputs": [
    {
     "data": {
      "text/plain": [
       "876"
      ]
     },
     "execution_count": 44,
     "metadata": {},
     "output_type": "execute_result"
    }
   ],
   "source": [
    "len(wos_doi['DOI'].unique())"
   ]
  },
  {
   "cell_type": "code",
   "execution_count": 42,
   "id": "14c7d809-4340-4c1f-8456-a84c662e638b",
   "metadata": {},
   "outputs": [
    {
     "data": {
      "text/plain": [
       "876"
      ]
     },
     "execution_count": 42,
     "metadata": {},
     "output_type": "execute_result"
    }
   ],
   "source": [
    "len(merged_df['DOI'].unique())#.count()"
   ]
  },
  {
   "cell_type": "code",
   "execution_count": 66,
   "id": "cfedf28f-ae3f-46bf-8183-5fdb1f1383e1",
   "metadata": {},
   "outputs": [
    {
     "data": {
      "text/plain": [
       "875"
      ]
     },
     "execution_count": 66,
     "metadata": {},
     "output_type": "execute_result"
    }
   ],
   "source": [
    "merged_df['DOI'].count()"
   ]
  },
  {
   "cell_type": "code",
   "execution_count": 26,
   "id": "c121fc3a-c080-4929-baa4-1d21dfbd8659",
   "metadata": {},
   "outputs": [
    {
     "data": {
      "text/plain": [
       "Index(['doi', 'doi_url', 'title', 'genre', 'is_paratext', 'published_date',\n",
       "       'year', 'journal_name', 'journal_issns', 'journal_issn_l',\n",
       "       'journal_is_oa', 'journal_is_in_doaj', 'publisher', 'is_oa',\n",
       "       'oa_status', 'has_repository_copy', 'best_oa_location',\n",
       "       'first_oa_location', 'oa_locations', 'oa_locations_embargoed',\n",
       "       'updated', 'data_standard', 'z_authors', 'best_oa_location.updated',\n",
       "       'best_oa_location.url', 'best_oa_location.url_for_pdf',\n",
       "       'best_oa_location.url_for_landing_page', 'best_oa_location.evidence',\n",
       "       'best_oa_location.license', 'best_oa_location.version',\n",
       "       'best_oa_location.host_type', 'best_oa_location.is_best',\n",
       "       'best_oa_location.pmh_id', 'best_oa_location.endpoint_id',\n",
       "       'best_oa_location.repository_institution', 'best_oa_location.oa_date',\n",
       "       'first_oa_location.updated', 'first_oa_location.url',\n",
       "       'first_oa_location.url_for_pdf',\n",
       "       'first_oa_location.url_for_landing_page', 'first_oa_location.evidence',\n",
       "       'first_oa_location.license', 'first_oa_location.version',\n",
       "       'first_oa_location.host_type', 'first_oa_location.is_best',\n",
       "       'first_oa_location.pmh_id', 'first_oa_location.endpoint_id',\n",
       "       'first_oa_location.repository_institution', 'first_oa_location.oa_date',\n",
       "       'HTTP_status_code', 'error', 'message'],\n",
       "      dtype='object')"
      ]
     },
     "execution_count": 26,
     "metadata": {},
     "output_type": "execute_result"
    }
   ],
   "source": [
    "data_upw.columns"
   ]
  },
  {
   "cell_type": "code",
   "execution_count": 21,
   "id": "bc5d5510",
   "metadata": {},
   "outputs": [
    {
     "data": {
      "text/plain": [
       "True     645\n",
       "False    228\n",
       "Name: is_oa, dtype: int64"
      ]
     },
     "execution_count": 21,
     "metadata": {},
     "output_type": "execute_result"
    }
   ],
   "source": [
    "data_upw['is_oa'].value_counts()"
   ]
  },
  {
   "cell_type": "code",
   "execution_count": 27,
   "id": "c3cf7a15-32fc-4ce8-a773-76edaf435377",
   "metadata": {},
   "outputs": [
    {
     "data": {
      "text/plain": [
       "gold      252\n",
       "closed    228\n",
       "green     187\n",
       "bronze    152\n",
       "hybrid     54\n",
       "Name: oa_status, dtype: int64"
      ]
     },
     "execution_count": 27,
     "metadata": {},
     "output_type": "execute_result"
    }
   ],
   "source": [
    "data_upw['oa_status'].value_counts()"
   ]
  },
  {
   "cell_type": "code",
   "execution_count": null,
   "id": "5185638d-b8b2-46f3-a80a-e0f02ba958d1",
   "metadata": {},
   "outputs": [],
   "source": []
  }
 ],
 "metadata": {
  "kernelspec": {
   "display_name": "keras_gpu",
   "language": "python",
   "name": "pycaret_gpu"
  },
  "language_info": {
   "codemirror_mode": {
    "name": "ipython",
    "version": 3
   },
   "file_extension": ".py",
   "mimetype": "text/x-python",
   "name": "python",
   "nbconvert_exporter": "python",
   "pygments_lexer": "ipython3",
   "version": "3.8.8"
  }
 },
 "nbformat": 4,
 "nbformat_minor": 5
}
