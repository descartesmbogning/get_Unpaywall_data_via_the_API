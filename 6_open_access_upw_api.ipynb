{
 "cells": [
  {
   "cell_type": "code",
   "execution_count": 1,
   "id": "029adbf6-44bb-4dee-a834-db97543dc51d",
   "metadata": {},
   "outputs": [],
   "source": [
    "import pandas as pd\n",
    "import numpy as np\n",
    "import seaborn as sns\n",
    "import missingno as msno\n",
    "%matplotlib inline\n",
    "import csv\n",
    "\n",
    "from functools import reduce"
   ]
  },
  {
   "cell_type": "code",
   "execution_count": null,
   "id": "4b4806c4-3887-4cec-9da9-8b6eff54366d",
   "metadata": {},
   "outputs": [],
   "source": []
  },
  {
   "cell_type": "code",
   "execution_count": null,
   "id": "82d427ec",
   "metadata": {},
   "outputs": [],
   "source": []
  },
  {
   "cell_type": "markdown",
   "id": "2978c973",
   "metadata": {},
   "source": [
    "# 1. compare based on doi"
   ]
  },
  {
   "cell_type": "markdown",
   "id": "8ec9a9da",
   "metadata": {},
   "source": [
    "## import data"
   ]
  },
  {
   "cell_type": "code",
   "execution_count": 2,
   "id": "75e79f0b",
   "metadata": {},
   "outputs": [
    {
     "data": {
      "text/html": [
       "<div>\n",
       "<style scoped>\n",
       "    .dataframe tbody tr th:only-of-type {\n",
       "        vertical-align: middle;\n",
       "    }\n",
       "\n",
       "    .dataframe tbody tr th {\n",
       "        vertical-align: top;\n",
       "    }\n",
       "\n",
       "    .dataframe thead th {\n",
       "        text-align: right;\n",
       "    }\n",
       "</style>\n",
       "<table border=\"1\" class=\"dataframe\">\n",
       "  <thead>\n",
       "    <tr style=\"text-align: right;\">\n",
       "      <th></th>\n",
       "      <th>UT (Unique WOS ID)</th>\n",
       "      <th>DOI</th>\n",
       "    </tr>\n",
       "  </thead>\n",
       "  <tbody>\n",
       "    <tr>\n",
       "      <th>0</th>\n",
       "      <td>wos:a1975ak27200035</td>\n",
       "      <td>NaN</td>\n",
       "    </tr>\n",
       "    <tr>\n",
       "      <th>1</th>\n",
       "      <td>wos:a1975bb78600005</td>\n",
       "      <td>10.1007/bf00268754</td>\n",
       "    </tr>\n",
       "    <tr>\n",
       "      <th>2</th>\n",
       "      <td>wos:a1975ak49300025</td>\n",
       "      <td>10.1016/0042-6822(75)90198-1</td>\n",
       "    </tr>\n",
       "    <tr>\n",
       "      <th>3</th>\n",
       "      <td>wos:a1975al49000001</td>\n",
       "      <td>10.1016/0022-2836(75)90178-3</td>\n",
       "    </tr>\n",
       "    <tr>\n",
       "      <th>4</th>\n",
       "      <td>wos:a1975ay53300001</td>\n",
       "      <td>10.1016/0042-6822(75)90142-7</td>\n",
       "    </tr>\n",
       "  </tbody>\n",
       "</table>\n",
       "</div>"
      ],
      "text/plain": [
       "    UT (Unique WOS ID)                           DOI\n",
       "0  wos:a1975ak27200035                           NaN\n",
       "1  wos:a1975bb78600005            10.1007/bf00268754\n",
       "2  wos:a1975ak49300025  10.1016/0042-6822(75)90198-1\n",
       "3  wos:a1975al49000001  10.1016/0022-2836(75)90178-3\n",
       "4  wos:a1975ay53300001  10.1016/0042-6822(75)90142-7"
      ]
     },
     "execution_count": 2,
     "metadata": {},
     "output_type": "execute_result"
    }
   ],
   "source": [
    "#Import data\n",
    "wos_doi = pd.read_pickle(f'D:\\PROJECT/YORK UNIVERSITY/BACTERIOPHAGES/data_analyse/first_clean/data_scholar_all_year_merge.pkl')[\n",
    "                        ['UT (Unique WOS ID)','DOI']]\n",
    "wos_doi.head()"
   ]
  },
  {
   "cell_type": "code",
   "execution_count": 3,
   "id": "2e767136",
   "metadata": {},
   "outputs": [
    {
     "data": {
      "text/html": [
       "<div>\n",
       "<style scoped>\n",
       "    .dataframe tbody tr th:only-of-type {\n",
       "        vertical-align: middle;\n",
       "    }\n",
       "\n",
       "    .dataframe tbody tr th {\n",
       "        vertical-align: top;\n",
       "    }\n",
       "\n",
       "    .dataframe thead th {\n",
       "        text-align: right;\n",
       "    }\n",
       "</style>\n",
       "<table border=\"1\" class=\"dataframe\">\n",
       "  <thead>\n",
       "    <tr style=\"text-align: right;\">\n",
       "      <th></th>\n",
       "      <th>0</th>\n",
       "    </tr>\n",
       "  </thead>\n",
       "  <tbody>\n",
       "    <tr>\n",
       "      <th>UT (Unique WOS ID)</th>\n",
       "      <td>61544</td>\n",
       "    </tr>\n",
       "    <tr>\n",
       "      <th>DOI</th>\n",
       "      <td>56796</td>\n",
       "    </tr>\n",
       "  </tbody>\n",
       "</table>\n",
       "</div>"
      ],
      "text/plain": [
       "                        0\n",
       "UT (Unique WOS ID)  61544\n",
       "DOI                 56796"
      ]
     },
     "execution_count": 3,
     "metadata": {},
     "output_type": "execute_result"
    }
   ],
   "source": [
    "wos_doi.count().to_frame()"
   ]
  },
  {
   "cell_type": "code",
   "execution_count": 4,
   "id": "14f8691d",
   "metadata": {},
   "outputs": [
    {
     "data": {
      "text/plain": [
       "Index(['UT (Unique WOS ID)', 'DOI'], dtype='object')"
      ]
     },
     "execution_count": 4,
     "metadata": {},
     "output_type": "execute_result"
    }
   ],
   "source": [
    "wos_doi.columns"
   ]
  },
  {
   "cell_type": "code",
   "execution_count": 5,
   "id": "de24fd44",
   "metadata": {},
   "outputs": [],
   "source": [
    "# wos_doi.drop_duplicates(subset=['UT (Unique WOS ID)'])"
   ]
  },
  {
   "cell_type": "code",
   "execution_count": 6,
   "id": "fd0a3608",
   "metadata": {},
   "outputs": [
    {
     "name": "stdout",
     "output_type": "stream",
     "text": [
      ">>>  total number of WOS publications :  61544\n"
     ]
    }
   ],
   "source": [
    "## How many studies in WOS ?\n",
    "wos_doi.drop_duplicates(inplace = True)\n",
    "print(\">>>\", \" total number of WOS publications : \", wos_doi.shape[0])"
   ]
  },
  {
   "cell_type": "code",
   "execution_count": 7,
   "id": "f2526ba0",
   "metadata": {},
   "outputs": [
    {
     "name": "stdout",
     "output_type": "stream",
     "text": [
      ">>>  total number of WOS publications with DOI :  56796\n"
     ]
    }
   ],
   "source": [
    "## How many WOS studies have DOI  ?\n",
    "wos_have_doi_have_doi = wos_doi[wos_doi['DOI'].notnull()]\n",
    "print(\">>>\", \" total number of WOS publications with DOI : \", wos_have_doi_have_doi.shape[0])"
   ]
  },
  {
   "cell_type": "code",
   "execution_count": 8,
   "id": "dbe219e7",
   "metadata": {},
   "outputs": [
    {
     "name": "stdout",
     "output_type": "stream",
     "text": [
      ">>>  total number of WOS publications with no DOI :  4748\n"
     ]
    }
   ],
   "source": [
    "## How many WOS studies have DOI  ?\n",
    "wos_have_doi_no_doi = wos_doi[wos_doi['DOI'].isnull()]\n",
    "print(\">>>\", \" total number of WOS publications with no DOI : \", wos_have_doi_no_doi.shape[0])"
   ]
  },
  {
   "cell_type": "code",
   "execution_count": 9,
   "id": "a0113809",
   "metadata": {},
   "outputs": [
    {
     "data": {
      "text/plain": [
       "UT (Unique WOS ID)    4748\n",
       "DOI                      0\n",
       "dtype: int64"
      ]
     },
     "execution_count": 9,
     "metadata": {},
     "output_type": "execute_result"
    }
   ],
   "source": [
    "wos_have_doi_no_doi.count()"
   ]
  },
  {
   "cell_type": "code",
   "execution_count": null,
   "id": "3e2860b3",
   "metadata": {},
   "outputs": [],
   "source": []
  },
  {
   "cell_type": "code",
   "execution_count": null,
   "id": "ce148f37",
   "metadata": {},
   "outputs": [],
   "source": []
  },
  {
   "cell_type": "markdown",
   "id": "5baa5cce",
   "metadata": {},
   "source": [
    "## get Unpaywall data via the API"
   ]
  },
  {
   "cell_type": "code",
   "execution_count": 10,
   "id": "de7ec1e0",
   "metadata": {},
   "outputs": [],
   "source": [
    "import os\n",
    "myemail = 'dmbogning15@gmail.com'"
   ]
  },
  {
   "cell_type": "code",
   "execution_count": 11,
   "id": "0144cbeb",
   "metadata": {},
   "outputs": [],
   "source": [
    "import requests\n",
    "import json\n",
    "import time\n",
    "\n",
    "def get_doi_data(doi):\n",
    "    email = myemail or ''\n",
    "    url = 'https://api.unpaywall.org/v2/{}?email={}'.format(doi,email)\n",
    "    r = requests.get(url)\n",
    "    data = r.json()\n",
    "    response_time = r.elapsed.total_seconds()\n",
    "    # simple rule for sleeping if responses are slow\n",
    "    if response_time > 5.0:\n",
    "        print(response_time, 'seconds for last request')\n",
    "        print('Unpaywall slow to respond. Sleep for a few seconds.')\n",
    "        time.sleep(int(response_time))\n",
    "        print('Finished sleeping')\n",
    "    return data"
   ]
  },
  {
   "cell_type": "code",
   "execution_count": 12,
   "id": "5d02e5da",
   "metadata": {},
   "outputs": [
    {
     "data": {
      "text/plain": [
       "['10.1007/bf00268754',\n",
       " '10.1016/0042-6822(75)90198-1',\n",
       " '10.1016/0022-2836(75)90178-3',\n",
       " '10.1016/0042-6822(75)90142-7',\n",
       " '10.1016/0022-2836(75)90132-1']"
      ]
     },
     "execution_count": 12,
     "metadata": {},
     "output_type": "execute_result"
    }
   ],
   "source": [
    "wos_doi_na = wos_doi.dropna()\n",
    "list_wos_doi = list(wos_doi_na['DOI'])\n",
    "list_wos_doi[:5]"
   ]
  },
  {
   "cell_type": "code",
   "execution_count": 13,
   "id": "75a2a29b",
   "metadata": {},
   "outputs": [
    {
     "data": {
      "text/plain": [
       "56796"
      ]
     },
     "execution_count": 13,
     "metadata": {},
     "output_type": "execute_result"
    }
   ],
   "source": [
    "len(list_wos_doi)"
   ]
  },
  {
   "cell_type": "code",
   "execution_count": 14,
   "id": "2aef2d91",
   "metadata": {},
   "outputs": [],
   "source": [
    "# Python code to split a list\n",
    "# into sublists of given length.\n",
    "#list_doi_all = list(databases_merged.reset_index()['DOI'])#[:26]\n",
    "list_wos_doi_split = [list_wos_doi[x:x+1000] for x in range(0, len(list_wos_doi), 1000)]"
   ]
  },
  {
   "cell_type": "code",
   "execution_count": 15,
   "id": "7b8d5f40",
   "metadata": {},
   "outputs": [
    {
     "data": {
      "text/plain": [
       "56796"
      ]
     },
     "execution_count": 15,
     "metadata": {},
     "output_type": "execute_result"
    }
   ],
   "source": [
    "len(list_wos_doi)"
   ]
  },
  {
   "cell_type": "code",
   "execution_count": 16,
   "id": "1a814fba",
   "metadata": {},
   "outputs": [
    {
     "data": {
      "text/plain": [
       "range(0, 57)"
      ]
     },
     "execution_count": 16,
     "metadata": {},
     "output_type": "execute_result"
    }
   ],
   "source": [
    "range(len(list_wos_doi_split))"
   ]
  },
  {
   "cell_type": "code",
   "execution_count": 17,
   "id": "bdd88096-ea59-4de1-8050-bfcb68a9be5f",
   "metadata": {},
   "outputs": [],
   "source": [
    "# list_wos_doi_split[0]"
   ]
  },
  {
   "cell_type": "code",
   "execution_count": 18,
   "id": "d7390ab7",
   "metadata": {},
   "outputs": [
    {
     "name": "stdout",
     "output_type": "stream",
     "text": [
      "#+++>>> total number of publication found in unpaywall for list_wos_doi_split_24 : 1000  #\n",
      "#+++>>> total number of publication found in unpaywall for list_wos_doi_split_25 : 1000  #\n",
      "#+++>>> total number of publication found in unpaywall for list_wos_doi_split_26 : 1000  #\n",
      "#+++>>> total number of publication found in unpaywall for list_wos_doi_split_27 : 1000  #\n",
      "#+++>>> total number of publication found in unpaywall for list_wos_doi_split_28 : 1000  #\n",
      "#+++>>> total number of publication found in unpaywall for list_wos_doi_split_29 : 1000  #\n",
      "#+++>>> total number of publication found in unpaywall for list_wos_doi_split_30 : 1000  #\n",
      "#+++>>> total number of publication found in unpaywall for list_wos_doi_split_31 : 1000  #\n",
      "#+++>>> total number of publication found in unpaywall for list_wos_doi_split_32 : 1000  #\n",
      "#+++>>> total number of publication found in unpaywall for list_wos_doi_split_33 : 1000  #\n",
      "#+++>>> total number of publication found in unpaywall for list_wos_doi_split_34 : 1000  #\n",
      "#+++>>> total number of publication found in unpaywall for list_wos_doi_split_35 : 1000  #\n",
      "6.485542 seconds for last request\n",
      "Unpaywall slow to respond. Sleep for a few seconds.\n",
      "Finished sleeping\n",
      "#+++>>> total number of publication found in unpaywall for list_wos_doi_split_36 : 1000  #\n",
      "#+++>>> total number of publication found in unpaywall for list_wos_doi_split_37 : 1000  #\n",
      "#+++>>> total number of publication found in unpaywall for list_wos_doi_split_38 : 1000  #\n",
      "#+++>>> total number of publication found in unpaywall for list_wos_doi_split_39 : 1000  #\n",
      "#+++>>> total number of publication found in unpaywall for list_wos_doi_split_40 : 1000  #\n",
      "#+++>>> total number of publication found in unpaywall for list_wos_doi_split_41 : 1000  #\n",
      "#+++>>> total number of publication found in unpaywall for list_wos_doi_split_42 : 1000  #\n",
      "6.702312 seconds for last request\n",
      "Unpaywall slow to respond. Sleep for a few seconds.\n",
      "Finished sleeping\n",
      "#+++>>> total number of publication found in unpaywall for list_wos_doi_split_43 : 1000  #\n",
      "#+++>>> total number of publication found in unpaywall for list_wos_doi_split_44 : 1000  #\n",
      "#+++>>> total number of publication found in unpaywall for list_wos_doi_split_45 : 1000  #\n",
      "#+++>>> total number of publication found in unpaywall for list_wos_doi_split_46 : 1000  #\n",
      "#+++>>> total number of publication found in unpaywall for list_wos_doi_split_47 : 1000  #\n",
      "#+++>>> total number of publication found in unpaywall for list_wos_doi_split_48 : 1000  #\n",
      "#+++>>> total number of publication found in unpaywall for list_wos_doi_split_49 : 1000  #\n",
      "#+++>>> total number of publication found in unpaywall for list_wos_doi_split_50 : 1000  #\n",
      "#+++>>> total number of publication found in unpaywall for list_wos_doi_split_51 : 1000  #\n",
      "#+++>>> total number of publication found in unpaywall for list_wos_doi_split_52 : 1000  #\n",
      "#+++>>> total number of publication found in unpaywall for list_wos_doi_split_53 : 1000  #\n",
      "#+++>>> total number of publication found in unpaywall for list_wos_doi_split_54 : 1000  #\n",
      "#+++>>> total number of publication found in unpaywall for list_wos_doi_split_55 : 1000  #\n",
      "#+++>>> total number of publication found in unpaywall for list_wos_doi_split_56 : 796  #\n"
     ]
    }
   ],
   "source": [
    "# data_upw = pd.DataFrame()\n",
    "for elt in range(24,len(list_wos_doi_split)): # len(list_doi_split)  # range(21, 25)\n",
    "    data_upw = []\n",
    "    for doi in list_wos_doi_split[elt] :\n",
    "        data_doi = get_doi_data(doi)\n",
    "#         data_upw = pd.concat([data_upw,data_doi])\n",
    "        data_upw.append(data_doi)\n",
    "    \n",
    "    data_upw = pd.json_normalize(data_upw)\n",
    "    \n",
    "    data_upw.to_csv(f'D:\\PROJECT/YORK UNIVERSITY/BACTERIOPHAGES/data_analyse/open_access_upw/data_upw_02072023_{elt}.csv')\n",
    "#     data_upw.to_excel(f'D:\\PROJECT/YORK UNIVERSITY/BACTERIOPHAGES/data_analyse/data_upw_02072023.xls')\n",
    "    data_upw.to_pickle(f'D:\\PROJECT/YORK UNIVERSITY/BACTERIOPHAGES/data_analyse/open_access_upw/data_upw_02072023_{elt}.pkl')\n",
    "    print(f\"#+++>>> total number of publication found in unpaywall for list_wos_doi_split_{elt} :\", data_upw.shape[0],\" #\") "
   ]
  },
  {
   "cell_type": "code",
   "execution_count": null,
   "id": "2893ee80-e2ed-41ae-8d90-22b2e4d5d16a",
   "metadata": {},
   "outputs": [],
   "source": []
  },
  {
   "cell_type": "code",
   "execution_count": null,
   "id": "42e6264a-923c-4baf-975d-8248914b8096",
   "metadata": {},
   "outputs": [],
   "source": []
  },
  {
   "cell_type": "code",
   "execution_count": 19,
   "id": "1896bbd3-bf7d-4ef1-ae7a-35904efb8d59",
   "metadata": {},
   "outputs": [
    {
     "ename": "NameError",
     "evalue": "name 'vvv' is not defined",
     "output_type": "error",
     "traceback": [
      "\u001b[1;31m---------------------------------------------------------------------------\u001b[0m",
      "\u001b[1;31mNameError\u001b[0m                                 Traceback (most recent call last)",
      "Input \u001b[1;32mIn [19]\u001b[0m, in \u001b[0;36m<cell line: 1>\u001b[1;34m()\u001b[0m\n\u001b[1;32m----> 1\u001b[0m \u001b[43mvvv\u001b[49m\n",
      "\u001b[1;31mNameError\u001b[0m: name 'vvv' is not defined"
     ]
    }
   ],
   "source": [
    "vvv"
   ]
  },
  {
   "cell_type": "code",
   "execution_count": null,
   "id": "84a22439-2500-41b4-9d02-a62c0a7ed172",
   "metadata": {},
   "outputs": [],
   "source": [
    "merged_df = pd.merge(wos_doi.reset_index(), data_upw.rename({'doi':'DOI'}, axis=1), on='DOI', how = 'left').drop('index', axis=1)\n",
    "merged_df = merged_df.drop_duplicates(['UT (Unique WOS ID)'])\n",
    "\n",
    "merged_df.to_csv(f'D:\\PROJECT/YORK UNIVERSITY/BACTERIOPHAGES/data_analyse/phage_data_upw_02072023.csv')\n",
    "# merged_df.to_excel(f'D:\\PROJECT/YORK UNIVERSITY/BACTERIOPHAGES/data_analyse/phage_data_upw_02072023.xls')\n",
    "merged_df.to_pickle(f'D:\\PROJECT/YORK UNIVERSITY/BACTERIOPHAGES/data_analyse/phage_data_upw_02072023.pkl')\n",
    "merged_df"
   ]
  },
  {
   "cell_type": "code",
   "execution_count": null,
   "id": "b6c9da07-1f2e-4446-837d-4f2c3de728bf",
   "metadata": {},
   "outputs": [],
   "source": [
    "len(wos_doi['DOI'].unique())"
   ]
  },
  {
   "cell_type": "code",
   "execution_count": null,
   "id": "14c7d809-4340-4c1f-8456-a84c662e638b",
   "metadata": {},
   "outputs": [],
   "source": [
    "len(merged_df['DOI'].unique())#.count()"
   ]
  },
  {
   "cell_type": "code",
   "execution_count": null,
   "id": "cfedf28f-ae3f-46bf-8183-5fdb1f1383e1",
   "metadata": {},
   "outputs": [],
   "source": [
    "merged_df['DOI'].count()"
   ]
  },
  {
   "cell_type": "code",
   "execution_count": null,
   "id": "c121fc3a-c080-4929-baa4-1d21dfbd8659",
   "metadata": {},
   "outputs": [],
   "source": [
    "data_upw.columns"
   ]
  },
  {
   "cell_type": "code",
   "execution_count": null,
   "id": "bc5d5510",
   "metadata": {},
   "outputs": [],
   "source": [
    "data_upw['is_oa'].value_counts()"
   ]
  },
  {
   "cell_type": "code",
   "execution_count": null,
   "id": "c3cf7a15-32fc-4ce8-a773-76edaf435377",
   "metadata": {},
   "outputs": [],
   "source": [
    "data_upw['oa_status'].value_counts()"
   ]
  },
  {
   "cell_type": "code",
   "execution_count": null,
   "id": "5185638d-b8b2-46f3-a80a-e0f02ba958d1",
   "metadata": {},
   "outputs": [],
   "source": []
  }
 ],
 "metadata": {
  "kernelspec": {
   "display_name": "keras_gpu",
   "language": "python",
   "name": "pycaret_gpu"
  },
  "language_info": {
   "codemirror_mode": {
    "name": "ipython",
    "version": 3
   },
   "file_extension": ".py",
   "mimetype": "text/x-python",
   "name": "python",
   "nbconvert_exporter": "python",
   "pygments_lexer": "ipython3",
   "version": "3.8.8"
  }
 },
 "nbformat": 4,
 "nbformat_minor": 5
}
